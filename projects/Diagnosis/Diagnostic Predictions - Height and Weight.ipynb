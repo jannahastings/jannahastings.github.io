{
 "cells": [
  {
   "cell_type": "markdown",
   "id": "33f70186",
   "metadata": {},
   "source": [
    "## Linear Predictions\n",
    "### Predicting weight from height "
   ]
  },
  {
   "cell_type": "code",
   "execution_count": 1,
   "id": "8a082ede",
   "metadata": {},
   "outputs": [],
   "source": [
    "import numpy as np \n",
    "import pandas as pd \n",
    "import seaborn as sns\n",
    "import os\n",
    "import matplotlib.pyplot as plt\n",
    "from sklearn.model_selection import train_test_split\n",
    "from sklearn.linear_model import LinearRegression"
   ]
  },
  {
   "cell_type": "markdown",
   "id": "63878927",
   "metadata": {},
   "source": [
    "We use a publicly available dataset of a range of weights and heights for 25,000 individuals who were at age 18 at the time of measurement.\n",
    "\n"
   ]
  },
  {
   "cell_type": "code",
   "execution_count": null,
   "id": "85d07002",
   "metadata": {},
   "outputs": [],
   "source": [
    "df=pd.read_csv(\"SOCR-HeightWeight.csv\")\n",
    "df"
   ]
  },
  {
   "cell_type": "markdown",
   "id": "afe22f86",
   "metadata": {},
   "source": [
    "Unfortunately, this dataset was assembled in the US thus the weights are in pounds and the heights are in inches. Thus, our first step after loading the dataset is to convert the units to kg and cm. "
   ]
  },
  {
   "cell_type": "code",
   "execution_count": null,
   "id": "b69ed3c1",
   "metadata": {},
   "outputs": [],
   "source": [
    "df[\"Height(cm)\"]=df[\"Height(Inches)\"]*2.54\n",
    "df[\"Weight(kg)\"]=df[\"Weight(Pounds)\"]*0.453592\n",
    "\n",
    "df"
   ]
  },
  {
   "cell_type": "markdown",
   "id": "5f593217",
   "metadata": {},
   "source": [
    "## Looking at the data \n"
   ]
  },
  {
   "cell_type": "code",
   "execution_count": null,
   "id": "53323e07",
   "metadata": {},
   "outputs": [],
   "source": [
    "X = df.iloc[:,3:4]  \n",
    "X"
   ]
  },
  {
   "cell_type": "code",
   "execution_count": null,
   "id": "e41e2d44",
   "metadata": {},
   "outputs": [],
   "source": [
    "y = df.iloc[:,4:5]\n",
    "y"
   ]
  },
  {
   "cell_type": "code",
   "execution_count": null,
   "id": "9c18ff04",
   "metadata": {},
   "outputs": [],
   "source": [
    "plt.scatter(X,y,color='blue')\n",
    "plt.title(\"\")\n",
    "plt.xlabel(\"Height (cm)\")\n",
    "plt.ylabel(\"Weight (kg)\")\n",
    "plt.show()"
   ]
  },
  {
   "cell_type": "markdown",
   "id": "79b0ff6a",
   "metadata": {},
   "source": [
    "## Building and evaluating a linear model "
   ]
  },
  {
   "cell_type": "code",
   "execution_count": null,
   "id": "81874129",
   "metadata": {},
   "outputs": [],
   "source": [
    "X_train, X_test, y_train, y_test = train_test_split(X,y,test_size=500,random_state = 0)\n"
   ]
  },
  {
   "cell_type": "code",
   "execution_count": null,
   "id": "8f938574",
   "metadata": {},
   "outputs": [],
   "source": [
    "regressor = LinearRegression()\n",
    "regressor.fit(X_train,y_train)\n",
    "y_pred = regressor.predict(X_train)"
   ]
  },
  {
   "cell_type": "markdown",
   "id": "9a1b713e",
   "metadata": {},
   "source": [
    "## Looking at the fit "
   ]
  },
  {
   "cell_type": "code",
   "execution_count": null,
   "id": "28e5e6a3",
   "metadata": {},
   "outputs": [],
   "source": [
    "plt.scatter(X_train,y_train,color='red')\n",
    "plt.plot(X_train, regressor.predict(X_train),color='blue')\n",
    "plt.title('Training Set')\n",
    "plt.xlabel('Height')\n",
    "plt.ylabel('Weight')\n",
    "plt.show()"
   ]
  },
  {
   "cell_type": "markdown",
   "id": "bb22ebb7",
   "metadata": {},
   "source": [
    "### Prediction on the test set"
   ]
  },
  {
   "cell_type": "code",
   "execution_count": null,
   "id": "29d799a5",
   "metadata": {},
   "outputs": [],
   "source": [
    "plt.scatter(X_test,y_test,color='red')\n",
    "plt.plot(X_test, regressor.predict(X_test),color='blue')\n",
    "plt.title('Test Set')\n",
    "plt.xlabel('Height')\n",
    "plt.ylabel('Weight')\n",
    "plt.show()"
   ]
  },
  {
   "cell_type": "markdown",
   "id": "44f59488",
   "metadata": {},
   "source": [
    "### How good is the prediction? \n",
    "\n"
   ]
  },
  {
   "cell_type": "code",
   "execution_count": null,
   "id": "07a5343a",
   "metadata": {},
   "outputs": [],
   "source": [
    "errors = y_test - regressor.predict(X_test)\n",
    "\n",
    "print(errors)\n",
    "\n",
    "errors.plot.density(color='green')\n",
    "plt.title('Error Values')\n",
    "plt.show()\n",
    "\n"
   ]
  },
  {
   "cell_type": "code",
   "execution_count": null,
   "id": "63ef8f20",
   "metadata": {},
   "outputs": [],
   "source": [
    "abserrors = np.abs(errors)\n",
    "\n",
    "\n",
    "abserrors"
   ]
  },
  {
   "cell_type": "code",
   "execution_count": null,
   "id": "93caeda1",
   "metadata": {},
   "outputs": [],
   "source": [
    "abserrors.mean()"
   ]
  },
  {
   "cell_type": "markdown",
   "id": "b96dbfb8",
   "metadata": {},
   "source": [
    "### Can a different type of model give a better prediction? \n",
    "\n"
   ]
  },
  {
   "cell_type": "code",
   "execution_count": null,
   "id": "034ef91d",
   "metadata": {},
   "outputs": [],
   "source": [
    "#from sklearn.linear_model import Perceptron\n",
    "from sklearn import svm\n",
    "\n",
    "regr = svm.SVR()\n",
    "regr.fit(X_train, y_train)\n",
    "\n",
    "\n",
    "plt.scatter(X_test,y_test,color='red')\n",
    "plt.plot(X_test, regr.predict(X_test),color='blue')\n",
    "plt.title('Test Set')\n",
    "plt.xlabel('Height')\n",
    "plt.ylabel('Weight')\n",
    "plt.show()"
   ]
  },
  {
   "cell_type": "code",
   "execution_count": null,
   "id": "19f9f6d6",
   "metadata": {},
   "outputs": [],
   "source": [
    "errors2 = y_test.values - regr.predict(X_test)\n",
    "errors2 = errors2[0]\n",
    "\n",
    "pd.Series(errors2).plot.density(color='green')\n",
    "plt.title('Error Values')\n",
    "plt.show()"
   ]
  },
  {
   "cell_type": "code",
   "execution_count": null,
   "id": "479c2a11",
   "metadata": {},
   "outputs": [],
   "source": [
    "#abserrors2 = np.abs(errors2)\n",
    "\n",
    "linearerrors  = [item for sublist in errors.values for item in sublist]\n",
    "\n",
    "#linearerrors\n",
    "svmerrors = list(errors2)\n",
    "\n",
    "svmerrors\n",
    "\n",
    "dferrors = pd.DataFrame({\"linear\":linearerrors,\"SVM\":svmerrors})\n",
    "\n",
    "print(dferrors)\n",
    "\n",
    "dferrors.boxplot()\n",
    "\n"
   ]
  },
  {
   "cell_type": "code",
   "execution_count": null,
   "id": "373a917d",
   "metadata": {},
   "outputs": [],
   "source": [
    "dfabserrors = dferrors.abs()\n",
    "\n",
    "dfabserrors.boxplot()"
   ]
  },
  {
   "cell_type": "code",
   "execution_count": null,
   "id": "4674cb35",
   "metadata": {},
   "outputs": [],
   "source": [
    "dfabserrors.mean()"
   ]
  }
 ],
 "metadata": {
  "kernelspec": {
   "display_name": "projects",
   "language": "python",
   "name": "projects"
  },
  "language_info": {
   "codemirror_mode": {
    "name": "ipython",
    "version": 3
   },
   "file_extension": ".py",
   "mimetype": "text/x-python",
   "name": "python",
   "nbconvert_exporter": "python",
   "pygments_lexer": "ipython3",
   "version": "3.10.6"
  }
 },
 "nbformat": 4,
 "nbformat_minor": 5
}

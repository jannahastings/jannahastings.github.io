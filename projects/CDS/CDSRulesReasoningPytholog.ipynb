{
 "cells": [
  {
   "cell_type": "markdown",
   "id": "f36642f5",
   "metadata": {},
   "source": [
    "## Reasoning with CDS Rules\n",
    "\n",
    "\n",
    "We will use a logic-based reasoning engine to apply a knowledge base of rules to particular patient descriptions."
   ]
  },
  {
   "cell_type": "code",
   "execution_count": 2,
   "id": "26aa1042",
   "metadata": {},
   "outputs": [],
   "source": [
    "import pytholog as pl"
   ]
  },
  {
   "cell_type": "markdown",
   "id": "12792c9f",
   "metadata": {},
   "source": [
    "### Deciding between COVID, cold, flu and allergies\n",
    "\n",
    "Our decision support knowledge base consists of the following rules:\n",
    "- fever is present in COVID and flu\n",
    "- headache is present in flu, COVID and colds\n",
    "- blocked nose is present in colds and allergies\n",
    "- cough in COVID and flu\n",
    "- shortness of breath in COVID and allergies\n"
   ]
  },
  {
   "cell_type": "code",
   "execution_count": 3,
   "id": "89d3c664",
   "metadata": {},
   "outputs": [],
   "source": [
    "## Create a knowledge base about respiratory disease conditions\n",
    "respdis = pl.KnowledgeBase(\"respiratory_diseases\")\n",
    "respdis([\n",
    "    \"symptom(fever,covid)\",\n",
    "    \"symptom(fever,flu)\",\n",
    "    \"symptom(headache,flu)\", \n",
    "    \"symptom(headache,covid)\",\n",
    "    \"symptom(headache,cold)\", \n",
    "    \"symptom(blockednose,cold)\",\n",
    "    \"symptom(blockednose,allergy)\",\n",
    "    \"symptom(cough,covid)\",\n",
    "    \"symptom(cough,flu)\",\n",
    "    \"symptom(shortbreath,covid)\",\n",
    "    \"symptom(shortbreath,allergy)\"\n",
    "])"
   ]
  },
  {
   "cell_type": "markdown",
   "id": "9036c39f",
   "metadata": {},
   "source": [
    "### Patient data\n",
    "\n",
    "We have the following patients: \n",
    "- JM has cough and fever but no shortness of breath\n",
    "- LM has shortness of breath and blocked nose\n",
    "- LS has fever and headache\n",
    "\n"
   ]
  },
  {
   "cell_type": "code",
   "execution_count": 4,
   "id": "111b6ddf",
   "metadata": {},
   "outputs": [],
   "source": [
    "respdis([\n",
    "    \"has_symptom(jm,cough)\",\n",
    "    \"has_symptom(jm,fever)\",\n",
    "    \"has_symptom(jm,shortbreath)\",\n",
    "    \"has_symptom(lm,blockednose)\",\n",
    "    \"has_symptom(ls,fever)\",\n",
    "    \"has_symptom(ls,headache)\"\n",
    "])\n"
   ]
  },
  {
   "cell_type": "markdown",
   "id": "f7d199dc",
   "metadata": {},
   "source": [
    "### We query our knowledge base for conditions that match the symptoms\n",
    "\n",
    "What conditions might our patients have?  \n"
   ]
  },
  {
   "cell_type": "code",
   "execution_count": 5,
   "id": "774d533e",
   "metadata": {},
   "outputs": [
    {
     "name": "stdout",
     "output_type": "stream",
     "text": [
      "[{'X': 'jm', 'D': 'covid'}, {'X': 'jm', 'D': 'flu'}, {'X': 'jm', 'D': 'covid'}, {'X': 'jm', 'D': 'flu'}, {'X': 'jm', 'D': 'covid'}, {'X': 'jm', 'D': 'allergy'}, {'X': 'lm', 'D': 'cold'}, {'X': 'lm', 'D': 'allergy'}, {'X': 'ls', 'D': 'covid'}, {'X': 'ls', 'D': 'flu'}, {'X': 'ls', 'D': 'flu'}, {'X': 'ls', 'D': 'covid'}, {'X': 'ls', 'D': 'cold'}]\n"
     ]
    },
    {
     "data": {
      "text/plain": [
       "{'jm': ['allergy', 'covid', 'flu'],\n",
       " 'ls': ['cold', 'covid', 'flu'],\n",
       " 'lm': ['allergy', 'cold']}"
      ]
     },
     "execution_count": 5,
     "metadata": {},
     "output_type": "execute_result"
    }
   ],
   "source": [
    "respdis([\"has_condition(X,D) :- has_symptom(X,Y), symptom(Y,D)\"])\n",
    "\n",
    "print(respdis.query(pl.Expr(\"has_condition(X,D)\")))\n",
    "\n",
    "\n",
    "conditions = set([ (list(y.values())[0],list(y.values())[1]) for y in respdis.query(pl.Expr(\"has_condition(X,D)\")) ])\n",
    "\n",
    "has_condition = dict()\n",
    "\n",
    "for (p,c) in conditions:\n",
    "    if p not in has_condition:\n",
    "        has_condition[p]=[]\n",
    "    if c not in has_condition[p]:\n",
    "        has_condition[p].append(c)\n",
    "        \n",
    "has_condition"
   ]
  },
  {
   "cell_type": "markdown",
   "id": "ada086e5",
   "metadata": {},
   "source": [
    "### Now we exclude conditions for which symptoms are not present\n",
    "\n",
    "Previously we could see any condition that the patient might have based on any symptom that the patient might have. Now we try to force the system to give us only the best recommendations by taking absent symptoms into account as well. \n",
    "\n",
    "- fever is rare in colds and allergies\n",
    "- headache is not present in allergies\n",
    "- cough is seldom present in colds and never in allergies\n",
    "- shortness of breath is not present in colds and flu"
   ]
  },
  {
   "cell_type": "code",
   "execution_count": 6,
   "id": "5e98f206",
   "metadata": {},
   "outputs": [
    {
     "name": "stdout",
     "output_type": "stream",
     "text": [
      "[{'X': 'jm', 'Y': 'cough'}, {'X': 'jm', 'Y': 'fever'}, {'X': 'jm', 'Y': 'shortbreath'}, {'X': 'lm', 'Y': 'blockednose'}, {'X': 'ls', 'Y': 'fever'}, {'X': 'ls', 'Y': 'headache'}]\n"
     ]
    },
    {
     "data": {
      "text/plain": [
       "{'jm': ['covid'], 'ls': ['covid', 'flu'], 'lm': ['allergy', 'cold']}"
      ]
     },
     "execution_count": 6,
     "metadata": {},
     "output_type": "execute_result"
    }
   ],
   "source": [
    "respdis([\"not_symptom(fever,cold)\",\n",
    "    \"not_symptom(fever,allergy)\",\n",
    "    \"not_symptom(headache,allergy)\",\n",
    "    \"not_symptom(blockednose,covid)\",\n",
    "    \"not_symptom(blockednose,flu)\",\n",
    "    \"not_symptom(cough,cold)\",\n",
    "    \"not_symptom(cough,allergy)\",\n",
    "    \"not_symptom(shortbreath,cold)\",\n",
    "    \"not_symptom(shortbreath,flu)\",\n",
    "    \"not_condition(X,D) :- has_symptom(X,Y) , not_symptom(Y,D)\"])\n",
    "\n",
    "not_conditions = set([ (list(y.values())[0],list(y.values())[1]) for y in respdis.query(pl.Expr(\"not_condition(X,D)\")) ])\n",
    "\n",
    "not_has_condition = dict()\n",
    "\n",
    "for (p,c) in not_conditions:\n",
    "    if p not in not_has_condition:\n",
    "        not_has_condition[p]=[]\n",
    "    if c not in not_has_condition[p]:\n",
    "        not_has_condition[p].append(c)\n",
    "        \n",
    "only_conditions = dict()\n",
    "\n",
    "for p in has_condition.keys():\n",
    "    conds = has_condition[p]\n",
    "    not_conds = not_has_condition[p]\n",
    "    only_conditions[p]=[x for x in conds if x not in not_conds]\n",
    "    \n",
    "\n",
    "print(respdis.query(pl.Expr(\"has_symptom(X,Y)\")) )\n",
    "\n",
    "    \n",
    "only_conditions"
   ]
  }
 ],
 "metadata": {
  "kernelspec": {
   "display_name": "projects",
   "language": "python",
   "name": "projects"
  },
  "language_info": {
   "codemirror_mode": {
    "name": "ipython",
    "version": 3
   },
   "file_extension": ".py",
   "mimetype": "text/x-python",
   "name": "python",
   "nbconvert_exporter": "python",
   "pygments_lexer": "ipython3",
   "version": "3.10.6"
  }
 },
 "nbformat": 4,
 "nbformat_minor": 5
}
